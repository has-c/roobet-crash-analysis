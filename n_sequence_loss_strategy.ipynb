{
 "cells": [
  {
   "cell_type": "markdown",
   "metadata": {},
   "source": [
    "### N-Sequence Loss Strategy\n",
    "Objective: Bet on rounds once n losses have occurred. Idea that after a sequence of losses a win must occur. \n",
    "\n",
    "Minimise downside by adding stop_loss protection after m games lost."
   ]
  },
  {
   "cell_type": "code",
   "execution_count": 2,
   "metadata": {},
   "outputs": [],
   "source": [
    "import numpy as np\n",
    "import hashlib\n",
    "import random\n",
    "import string\n",
    "import hmac\n",
    "import pandas as pd\n",
    "from tqdm.notebook import tqdm\n",
    "import os\n",
    "import re\n",
    "\n",
    "import config\n",
    "import get_game_data\n",
    "\n",
    "tqdm.pandas()\n",
    "\n",
    "import warnings\n",
    "warnings.filterwarnings(\"ignore\")"
   ]
  },
  {
   "cell_type": "markdown",
   "metadata": {},
   "source": [
    "### Load data"
   ]
  },
  {
   "cell_type": "code",
   "execution_count": 5,
   "metadata": {},
   "outputs": [],
   "source": [
    "multipliers = get_game_data.get_all_multipliers(config.first_game,config.current_game)\n",
    "multipliers_chronological_order = multipliers[::-1]\n",
    "multiplier_df = pd.DataFrame({'game_no': range(1,len(multipliers_chronological_order)+1), 'multiplier': multipliers_chronological_order})\n",
    "\n",
    "multipler_dataset_name = \"raw_multipler_\" + \".csv\"\n",
    "raw_multipler_data_path = os.path.join(\"data\",multipler_dataset_name)\n",
    "multiplier_df.to_csv(raw_multipler_data_path,index=False)"
   ]
  },
  {
   "cell_type": "code",
   "execution_count": 7,
   "metadata": {},
   "outputs": [],
   "source": [
    "multipler_dataset_name = \"raw_multipler_\" + \".csv\"\n",
    "raw_multipler_data_path = os.path.join(\"data\",multipler_dataset_name)\n",
    "raw_multiplier_df = pd.read_csv(raw_multipler_data_path)\n",
    "training_df = raw_multiplier_df.copy()"
   ]
  },
  {
   "cell_type": "code",
   "execution_count": 8,
   "metadata": {},
   "outputs": [],
   "source": [
    "#create results folder\n",
    "experiment_results_directory = \"loss_sequence_playing\"\n",
    "results_path = os.path.join(\"data\",experiment_results_directory)\n",
    "try:    \n",
    "    os.mkdir(results_path)\n",
    "except FileExistsError:\n",
    "    pass"
   ]
  },
  {
   "cell_type": "markdown",
   "metadata": {
    "collapsed": false,
    "pycharm": {
     "name": "#%% md\n"
    }
   },
   "source": [
    "### Multiple loss play\n",
    "After multiple red games, a green game must occur."
   ]
  },
  {
   "cell_type": "code",
   "execution_count": 9,
   "metadata": {},
   "outputs": [],
   "source": [
    "#experiment parameters\n",
    "loss_level = 2\n",
    "auto_cashout_level = 1.5\n",
    "bet_size = 0.1\n",
    "num_loss = 4 #number of losses in a row\n",
    "loss_counter = 0"
   ]
  },
  {
   "cell_type": "code",
   "execution_count": 10,
   "metadata": {},
   "outputs": [],
   "source": [
    "training_df[\"loss_flag\"] = False\n",
    "training_df.loc[training_df[\"multiplier\"] < loss_level, \"loss_flag\"] = True\n",
    "\n",
    "training_df[\"cumsum\"] = (~training_df[\"loss_flag\"]).cumsum()"
   ]
  },
  {
   "cell_type": "code",
   "execution_count": 59,
   "metadata": {},
   "outputs": [],
   "source": [
    "#find where cumsum doesn't change for num_games lost in a row\n",
    "cumsum_value_counts = training_df[\"cumsum\"].value_counts()\n",
    "appropriate_cumsum = cumsum_value_counts[cumsum_value_counts >= num_loss+1]\n",
    "game_sequences = training_df[training_df[\"cumsum\"].isin(appropriate_cumsum.index)].query(\"loss_flag == True\")\n",
    "\n",
    "final_sequence_game_no = game_sequences.groupby([\"cumsum\"])[\"game_no\"].last().reset_index()\n",
    "final_sequence_game_no[\"game_no\"] += 1\n",
    "additional_games = training_df[training_df[\"game_no\"].isin(final_sequence_game_no[\"game_no\"])]\n",
    "additional_games[\"cumsum\"] -= 1\n",
    "game_sequences = game_sequences.append(additional_games, ignore_index=True)\n",
    "\n",
    "game_sequences = game_sequences.sort_values(by=\"game_no\",ignore_index=True)\n"
   ]
  },
  {
   "cell_type": "code",
   "execution_count": 100,
   "metadata": {},
   "outputs": [
    {
     "data": {
      "application/vnd.jupyter.widget-view+json": {
       "model_id": "9be349d6914b405abeb585d17913fb54",
       "version_major": 2,
       "version_minor": 0
      },
      "text/plain": [
       "  0%|          | 0/404438 [00:00<?, ?it/s]"
      ]
     },
     "metadata": {},
     "output_type": "display_data"
    }
   ],
   "source": [
    "#run algorithm over game sequences\n",
    "prev_game_no = 0\n",
    "betting_results = []\n",
    "all_game_batches = []\n",
    "for game_no in tqdm(game_sequences[\"game_no\"]):\n",
    "    game = game_sequences.query(\"game_no == @game_no\")\n",
    "    if prev_game_no+1 != game_no:\n",
    "        #new game sequence\n",
    "        game_cumsum = game[\"cumsum\"].values[0]\n",
    "        sequence = game_sequences.query(\"cumsum == @game_cumsum\")\n",
    "        #split sequence into \n",
    "        num_batches = np.ceil(len(sequence.index)/(num_loss + 1))\n",
    "        batch_prefixes = [0] + [idx*(num_loss+1) for idx in range(1,int(num_batches))]\n",
    "        batch_suffixes = [(idx*num_loss)+1 for idx in range(1,int(num_batches))] + [len(sequence.index)]\n",
    "        game_batches = [sequence.iloc[batch_prefixes[num_round]:batch_suffixes[num_round]] for num_round in range(len(batch_prefixes))]\n",
    "\n",
    "        for batch in game_batches:\n",
    "            all_game_batches.append(batch)\n",
    "            total_losses = batch.iloc[:num_loss][\"loss_flag\"].sum()\n",
    "            if num_loss == total_losses:\n",
    "                bet_round = batch.iloc[-1]\n",
    "                loss_flag = bet_round[\"loss_flag\"]\n",
    "                if not(loss_flag):\n",
    "                    #round won\n",
    "                    betting_result = bet_size * auto_cashout_level\n",
    "                else:\n",
    "                    betting_result = 0\n",
    "\n",
    "                betting_results.append(betting_result)\n",
    "        \n"
   ]
  },
  {
   "cell_type": "code",
   "execution_count": null,
   "metadata": {},
   "outputs": [],
   "source": []
  }
 ],
 "metadata": {
  "interpreter": {
   "hash": "896f0eec91ec943edf7fa223e8e7de25ed5c72502ff6eea2926b946c891de220"
  },
  "kernelspec": {
   "display_name": "Python 3.9.6 64-bit ('roobet_env': venv)",
   "name": "python3"
  },
  "language_info": {
   "codemirror_mode": {
    "name": "ipython",
    "version": 3
   },
   "file_extension": ".py",
   "mimetype": "text/x-python",
   "name": "python",
   "nbconvert_exporter": "python",
   "pygments_lexer": "ipython3",
   "version": "3.9.6"
  },
  "metadata": {
   "interpreter": {
    "hash": "239ab675de3f9bc7ff32c03a8d953065750b24e5e144d097652975c285fb2664"
   }
  }
 },
 "nbformat": 4,
 "nbformat_minor": 5
}
