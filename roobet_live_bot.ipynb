{
 "cells": [
  {
   "cell_type": "markdown",
   "metadata": {},
   "source": [
    "## N-Loss Strategy Bot\n",
    "\n",
    "Get the key element position\n",
    "\n",
    "Get the screenshot the multiplier position and convert to grayscale\n",
    "\n",
    "Convert to grayscale image to text using tesseract\n",
    "\n",
    "Apply n-loss strategy"
   ]
  },
  {
   "cell_type": "code",
   "execution_count": 31,
   "metadata": {},
   "outputs": [],
   "source": [
    "import pyautogui\n",
    "from PIL import Image,ImageOps\n",
    "import pytesseract\n",
    "import time\n",
    "import pandas as pd\n",
    "import copy\n",
    "import re"
   ]
  },
  {
   "cell_type": "code",
   "execution_count": 3,
   "metadata": {},
   "outputs": [],
   "source": [
    "pytesseract.pytesseract.tesseract_cmd = r'D:\\Tesseract-OCR\\tesseract'"
   ]
  },
  {
   "cell_type": "code",
   "execution_count": 5,
   "metadata": {},
   "outputs": [],
   "source": [
    "#locate key element on roobet page\n",
    "#note have to have page open on screen\n",
    "key_element_location = pyautogui.locateOnScreen('key_element.PNG', grayscale=True)\n",
    "\n",
    "left = key_element_location.left + 35\n",
    "top = key_element_location.top\n",
    "width = key_element_location.width + 22\n",
    "height = key_element_location.height"
   ]
  },
  {
   "cell_type": "code",
   "execution_count": 52,
   "metadata": {},
   "outputs": [
    {
     "name": "stdout",
     "output_type": "stream",
     "text": [
      "[6.31]\n",
      "[False]\n",
      "[6.31, 1.0]\n",
      "[False, True]\n",
      "[6.31, 1.0, 1.38]\n",
      "[False, True, True]\n",
      "[6.31, 1.0, 1.38, 1.15]\n",
      "[False, True, True, True]\n",
      "[6.31, 1.0, 1.38, 1.15, 1.1]\n",
      "[False, True, True, True, True]\n",
      "[True, True, True, True]\n",
      "[6.31, 1.0, 1.38, 1.15, 1.1]\n"
     ]
    }
   ],
   "source": [
    "game_multipliers = []\n",
    "game_results = [] #losses are True, wins are False\n",
    "prev_multiplier = 0\n",
    "death_stop = False\n",
    "live_game_num = 0\n",
    "n_loss_games = 4 #4 losses before playing\n",
    "loss_level = 2\n",
    "\n",
    "bet_size = 0.01\n",
    "auto_cashout_level = 1.5\n",
    "\n",
    "while not(death_stop):\n",
    "\n",
    "    #poll and wait till game ends before recording\n",
    "    try:\n",
    "        preparing_round_x, preparing_round_y = pyautogui.locateCenterOnScreen('preparing_round_action.PNG')\n",
    "    except TypeError:\n",
    "        #typeError occurs because the round is in action wait till its done \n",
    "        continue\n",
    "\n",
    "    multiplier_box = pyautogui.screenshot(region=(left, top, width, height))\n",
    "    multiplier_grayscale = ImageOps.grayscale(multiplier_box)\n",
    "\n",
    "    try:\n",
    "        roobet_game_text = pytesseract.image_to_string(multiplier_grayscale,config='--psm 8')\n",
    "        raw_multiplier = re.sub(r'[^\\d]+', '', roobet_game_text) \n",
    "        multiplier = float(raw_multiplier[:-2] + \".\" + raw_multiplier[-2:])\n",
    "    except ValueError:\n",
    "        #conversion fail try again\n",
    "        continue\n",
    "    \n",
    "    if prev_multiplier != multiplier:\n",
    "\n",
    "        game_result = loss_level > multiplier\n",
    "        game_multipliers.append(multiplier)\n",
    "        game_results.append(game_result)\n",
    "        print(game_multipliers)\n",
    "        print(game_results)\n",
    "\n",
    "        prev_multiplier = multiplier\n",
    "        live_game_num += 1\n",
    "        \n",
    "        #check if initial window is built up\n",
    "        if live_game_num >= n_loss_games:\n",
    "            current_game_window = game_results[-n_loss_games:]\n",
    "            if sum(current_game_window) == n_loss_games:\n",
    "                #n games were lost in a row\n",
    "                #play current game\n",
    "\n",
    "                #add bet size\n",
    "                bet_amount_box_x, bet_amount_box_y = pyautogui.locateCenterOnScreen('bet_amount_box.PNG')\n",
    "                pyautogui.click(bet_amount_box_x+15, bet_amount_box_y+15)\n",
    "                #delete what is currently there\n",
    "                pyautogui.hotkey('ctrl', 'a', 'backspace')\n",
    "                pyautogui.write(str(bet_size))  \n",
    "\n",
    "                #add cashout level\n",
    "                auto_cashout_level_x, auto_cashout_level_y = pyautogui.locateCenterOnScreen('auto_cashout_level_box.PNG')\n",
    "                pyautogui.click(auto_cashout_level_x+15, auto_cashout_level_y+15)\n",
    "                #delete what is currently there\n",
    "                pyautogui.hotkey('ctrl', 'a', 'backspace')\n",
    "                pyautogui.write(str(auto_cashout_level))  \n",
    "\n",
    "                #click place bet button\n",
    "                place_bet_x, place_bet_y = pyautogui.locateCenterOnScreen('place_bet_button.PNG')\n",
    "                pyautogui.click(place_bet_x,place_bet_y)\n",
    "\n",
    "                print(current_game_window)\n",
    "                print(game_multipliers)\n",
    "                death_stop = True\n",
    "\n",
    "        \n",
    "        "
   ]
  },
  {
   "cell_type": "code",
   "execution_count": null,
   "metadata": {},
   "outputs": [],
   "source": []
  }
 ],
 "metadata": {
  "interpreter": {
   "hash": "896f0eec91ec943edf7fa223e8e7de25ed5c72502ff6eea2926b946c891de220"
  },
  "kernelspec": {
   "display_name": "Python 3.9.6 64-bit ('roobet_env': venv)",
   "name": "python3"
  },
  "language_info": {
   "codemirror_mode": {
    "name": "ipython",
    "version": 3
   },
   "file_extension": ".py",
   "mimetype": "text/x-python",
   "name": "python",
   "nbconvert_exporter": "python",
   "pygments_lexer": "ipython3",
   "version": "3.9.6"
  },
  "orig_nbformat": 4
 },
 "nbformat": 4,
 "nbformat_minor": 2
}
