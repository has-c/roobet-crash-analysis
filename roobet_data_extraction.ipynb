{
 "cells": [
  {
   "cell_type": "code",
   "execution_count": 96,
   "metadata": {},
   "outputs": [],
   "source": [
    "import pyautogui"
   ]
  },
  {
   "cell_type": "code",
   "execution_count": 101,
   "metadata": {},
   "outputs": [],
   "source": [
    "#locate key element on roobet page\n",
    "#note have to have page open on screen\n",
    "key_element_location = pyautogui.locateOnScreen('key_element.PNG')\n",
    "key_element_point = pyautogui.center(key_element_location)\n",
    "key_element_point_x, key_element_point_y = key_element_point\n",
    "\n",
    "#click latest multiplier\n",
    "multiplier_click_position_x = key_element_point_x + 50\n",
    "multiplier_click_position_y = key_element_point_y\n",
    "pyautogui.click(multiplier_click_position_x, multiplier_click_position_y)"
   ]
  },
  {
   "cell_type": "code",
   "execution_count": 142,
   "metadata": {},
   "outputs": [],
   "source": [
    "#detect region of information for screenshot \n",
    "information_box_location = pyautogui.locateOnScreen('information_box.PNG')\n",
    "full_information_box = pyautogui.screenshot(region=(information_box_location.left,information_box_location.top+125,information_box_location.width,information_box_location.height+150))\n",
    "full_information_box.save(\"full_information_box.PNG\")"
   ]
  },
  {
   "cell_type": "code",
   "execution_count": null,
   "metadata": {},
   "outputs": [],
   "source": []
  },
  {
   "cell_type": "code",
   "execution_count": null,
   "metadata": {},
   "outputs": [],
   "source": []
  }
 ],
 "metadata": {
  "interpreter": {
   "hash": "896f0eec91ec943edf7fa223e8e7de25ed5c72502ff6eea2926b946c891de220"
  },
  "kernelspec": {
   "display_name": "Python 3.9.6 64-bit ('roobet_env': venv)",
   "name": "python3"
  },
  "language_info": {
   "codemirror_mode": {
    "name": "ipython",
    "version": 3
   },
   "file_extension": ".py",
   "mimetype": "text/x-python",
   "name": "python",
   "nbconvert_exporter": "python",
   "pygments_lexer": "ipython3",
   "version": "3.9.6"
  },
  "orig_nbformat": 4
 },
 "nbformat": 4,
 "nbformat_minor": 2
}
