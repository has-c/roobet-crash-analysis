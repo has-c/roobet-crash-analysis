{
 "cells": [
  {
   "cell_type": "code",
   "execution_count": 197,
   "metadata": {},
   "outputs": [],
   "source": [
    "import pyautogui\n",
    "from PIL import Image\n",
    "import pytesseract\n",
    "import time"
   ]
  },
  {
   "cell_type": "code",
   "execution_count": 209,
   "metadata": {},
   "outputs": [],
   "source": [
    "#locate key element on roobet page\n",
    "#note have to have page open on screen\n",
    "key_element_location = pyautogui.locateOnScreen('key_element.PNG')\n",
    "key_element_point = pyautogui.center(key_element_location)\n",
    "key_element_point_x, key_element_point_y = key_element_point\n",
    "\n",
    "#click latest multiplier\n",
    "multiplier_click_position_x = key_element_point_x + 50\n",
    "multiplier_click_position_y = key_element_point_y\n",
    "pyautogui.click(multiplier_click_position_x, multiplier_click_position_y)\n",
    "\n",
    "#pause before screenshot to allow box to open\n",
    "time.sleep(1)"
   ]
  },
  {
   "cell_type": "code",
   "execution_count": 210,
   "metadata": {},
   "outputs": [],
   "source": [
    "#detect region of information for screenshot \n",
    "information_box_location = pyautogui.locateOnScreen('information_box.PNG')\n",
    "full_information_box = pyautogui.screenshot(region=(information_box_location.left,information_box_location.top+125,information_box_location.width,information_box_location.height))\n",
    "full_information_box.save(\"full_information_box.PNG\")"
   ]
  },
  {
   "cell_type": "code",
   "execution_count": null,
   "metadata": {},
   "outputs": [],
   "source": [
    "pytesseract.pytesseract.tesseract_cmd = r'D:\\Tesseract-OCR\\tesseract'"
   ]
  },
  {
   "cell_type": "code",
   "execution_count": 167,
   "metadata": {},
   "outputs": [],
   "source": [
    "roobet_game_text = pytesseract.image_to_string(Image.open('full_information_box.PNG'))\n",
    "roobet_game_text = roobet_game_text.split(\"\\n\")"
   ]
  },
  {
   "cell_type": "code",
   "execution_count": 188,
   "metadata": {},
   "outputs": [],
   "source": [
    "num_bets = int([text for text in roobet_game_text if \"# of Bets: \" in text][0].split(\": \")[1])\n",
    "multiplier = float([text for text in roobet_game_text if \"Crash Point: \" in text][0].split(\": \")[1].replace(\"x\",\"\"))"
   ]
  },
  {
   "cell_type": "code",
   "execution_count": 211,
   "metadata": {},
   "outputs": [],
   "source": [
    "#close the dialog box\n",
    "dialog_close_x, dialog_close_y = pyautogui.locateCenterOnScreen('dialog_close_button.PNG')\n",
    "pyautogui.click(dialog_close_x, dialog_close_y)"
   ]
  },
  {
   "cell_type": "code",
   "execution_count": null,
   "metadata": {},
   "outputs": [],
   "source": [
    "#set the bet size\n",
    "bet_size = 0.01\n",
    "auto_cashout_level = 2\n",
    "\n",
    "\n"
   ]
  },
  {
   "cell_type": "code",
   "execution_count": null,
   "metadata": {},
   "outputs": [],
   "source": []
  }
 ],
 "metadata": {
  "interpreter": {
   "hash": "896f0eec91ec943edf7fa223e8e7de25ed5c72502ff6eea2926b946c891de220"
  },
  "kernelspec": {
   "display_name": "Python 3.9.6 64-bit ('roobet_env': venv)",
   "name": "python3"
  },
  "language_info": {
   "codemirror_mode": {
    "name": "ipython",
    "version": 3
   },
   "file_extension": ".py",
   "mimetype": "text/x-python",
   "name": "python",
   "nbconvert_exporter": "python",
   "pygments_lexer": "ipython3",
   "version": "3.9.6"
  },
  "orig_nbformat": 4
 },
 "nbformat": 4,
 "nbformat_minor": 2
}
