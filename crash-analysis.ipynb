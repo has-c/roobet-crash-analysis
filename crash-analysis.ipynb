{
 "cells": [
  {
   "cell_type": "code",
   "execution_count": 196,
   "source": [
    "import numpy as np\r\n",
    "import hashlib\r\n",
    "import random\r\n",
    "import string\r\n",
    "import hmac\r\n",
    "import pandas as pd\r\n",
    "from tqdm.notebook import tqdm\r\n",
    "import os\r\n",
    "import re\r\n",
    "\r\n",
    "import config\r\n",
    "import get_game_data\r\n",
    "\r\n",
    "tqdm.pandas()\r\n",
    "\r\n",
    "import warnings\r\n",
    "warnings.filterwarnings(\"ignore\")"
   ],
   "outputs": [],
   "metadata": {
    "pycharm": {
     "name": "#%%\n"
    }
   }
  },
  {
   "cell_type": "markdown",
   "source": [
    "### Load data"
   ],
   "metadata": {}
  },
  {
   "cell_type": "code",
   "execution_count": 197,
   "source": [
    "multipliers = get_game_data.get_all_multipliers(config.first_game,config.current_game)\r\n",
    "multipliers_chronological_order = multipliers[::-1]\r\n",
    "multiplier_df = pd.DataFrame({'game_no': range(1,len(multipliers_chronological_order)+1), 'multiplier': multipliers_chronological_order})\r\n",
    "\r\n",
    "multipler_dataset_name = \"raw_multipler_\" + \".csv\"\r\n",
    "raw_multipler_data_path = os.path.join(\"data\",multipler_dataset_name)\r\n",
    "multiplier_df.to_csv(raw_multipler_data_path,index=False)"
   ],
   "outputs": [],
   "metadata": {}
  },
  {
   "cell_type": "markdown",
   "source": [
    "### Train Test Split\n",
    "Note that each row is a game played."
   ],
   "metadata": {
    "collapsed": false,
    "pycharm": {
     "name": "#%% md\n"
    }
   }
  },
  {
   "cell_type": "code",
   "execution_count": 213,
   "source": [
    "raw_multiplier_df = pd.read_csv(raw_multipler_data_path)\r\n",
    "multipler_df = raw_multiplier_df.copy()"
   ],
   "outputs": [],
   "metadata": {}
  },
  {
   "cell_type": "code",
   "execution_count": 214,
   "source": [
    "#train test split\r\n",
    "train_test_split_index = round(len(multiplier_df.index) * config.train_pct)\r\n",
    "\r\n",
    "testing_df = multiplier_df.loc[train_test_split_index:].copy()\r\n",
    "training_df = multiplier_df.loc[:train_test_split_index-1].copy()"
   ],
   "outputs": [],
   "metadata": {}
  },
  {
   "cell_type": "code",
   "execution_count": 215,
   "source": [
    "#create results folder\r\n",
    "experiment_results_directory = \"loss_sequence_playing\"\r\n",
    "results_path = os.path.join(\"data\",experiment_results_directory)\r\n",
    "try:    \r\n",
    "    os.mkdir(results_path)\r\n",
    "except FileExistsError:\r\n",
    "    pass"
   ],
   "outputs": [],
   "metadata": {}
  },
  {
   "cell_type": "markdown",
   "source": [
    "### Multiple loss play\r\n",
    "After multiple red games, a green game must occur."
   ],
   "metadata": {
    "collapsed": false,
    "pycharm": {
     "name": "#%% md\n"
    }
   }
  },
  {
   "cell_type": "code",
   "execution_count": 216,
   "source": [
    "#experiment parameters\r\n",
    "loss_level = 2\r\n",
    "multiplier_checkout_level = 2\r\n",
    "bet_size = 5\r\n",
    "death_stop = 2\r\n",
    "num_loss = 4 #number of losses in a row\r\n",
    "loss_counter = 0"
   ],
   "outputs": [],
   "metadata": {}
  },
  {
   "cell_type": "code",
   "execution_count": 217,
   "source": [
    "#True if lost game, False if won game\r\n",
    "training_df[\"loss_flag\"] = training_df[\"multiplier\"] < loss_level"
   ],
   "outputs": [],
   "metadata": {}
  },
  {
   "cell_type": "code",
   "execution_count": 218,
   "source": [
    "#create game windows\r\n",
    "training_windows = training_df"
   ],
   "outputs": [
    {
     "output_type": "execute_result",
     "data": {
      "text/html": [
       "<div>\n",
       "<style scoped>\n",
       "    .dataframe tbody tr th:only-of-type {\n",
       "        vertical-align: middle;\n",
       "    }\n",
       "\n",
       "    .dataframe tbody tr th {\n",
       "        vertical-align: top;\n",
       "    }\n",
       "\n",
       "    .dataframe thead th {\n",
       "        text-align: right;\n",
       "    }\n",
       "</style>\n",
       "<table border=\"1\" class=\"dataframe\">\n",
       "  <thead>\n",
       "    <tr style=\"text-align: right;\">\n",
       "      <th></th>\n",
       "      <th>game_no</th>\n",
       "      <th>multiplier</th>\n",
       "      <th>loss_flag</th>\n",
       "    </tr>\n",
       "  </thead>\n",
       "  <tbody>\n",
       "    <tr>\n",
       "      <th>0</th>\n",
       "      <td>1</td>\n",
       "      <td>2.19</td>\n",
       "      <td>False</td>\n",
       "    </tr>\n",
       "    <tr>\n",
       "      <th>1</th>\n",
       "      <td>2</td>\n",
       "      <td>2.80</td>\n",
       "      <td>False</td>\n",
       "    </tr>\n",
       "    <tr>\n",
       "      <th>2</th>\n",
       "      <td>3</td>\n",
       "      <td>6.55</td>\n",
       "      <td>False</td>\n",
       "    </tr>\n",
       "    <tr>\n",
       "      <th>3</th>\n",
       "      <td>4</td>\n",
       "      <td>1.10</td>\n",
       "      <td>True</td>\n",
       "    </tr>\n",
       "    <tr>\n",
       "      <th>4</th>\n",
       "      <td>5</td>\n",
       "      <td>1.06</td>\n",
       "      <td>True</td>\n",
       "    </tr>\n",
       "    <tr>\n",
       "      <th>...</th>\n",
       "      <td>...</td>\n",
       "      <td>...</td>\n",
       "      <td>...</td>\n",
       "    </tr>\n",
       "    <tr>\n",
       "      <th>1538097</th>\n",
       "      <td>1538098</td>\n",
       "      <td>1.10</td>\n",
       "      <td>True</td>\n",
       "    </tr>\n",
       "    <tr>\n",
       "      <th>1538098</th>\n",
       "      <td>1538099</td>\n",
       "      <td>3.72</td>\n",
       "      <td>False</td>\n",
       "    </tr>\n",
       "    <tr>\n",
       "      <th>1538099</th>\n",
       "      <td>1538100</td>\n",
       "      <td>17.31</td>\n",
       "      <td>False</td>\n",
       "    </tr>\n",
       "    <tr>\n",
       "      <th>1538100</th>\n",
       "      <td>1538101</td>\n",
       "      <td>1.38</td>\n",
       "      <td>True</td>\n",
       "    </tr>\n",
       "    <tr>\n",
       "      <th>1538101</th>\n",
       "      <td>1538102</td>\n",
       "      <td>12.11</td>\n",
       "      <td>False</td>\n",
       "    </tr>\n",
       "  </tbody>\n",
       "</table>\n",
       "<p>1538102 rows × 3 columns</p>\n",
       "</div>"
      ],
      "text/plain": [
       "         game_no  multiplier  loss_flag\n",
       "0              1        2.19      False\n",
       "1              2        2.80      False\n",
       "2              3        6.55      False\n",
       "3              4        1.10       True\n",
       "4              5        1.06       True\n",
       "...          ...         ...        ...\n",
       "1538097  1538098        1.10       True\n",
       "1538098  1538099        3.72      False\n",
       "1538099  1538100       17.31      False\n",
       "1538100  1538101        1.38       True\n",
       "1538101  1538102       12.11      False\n",
       "\n",
       "[1538102 rows x 3 columns]"
      ]
     },
     "metadata": {},
     "execution_count": 218
    }
   ],
   "metadata": {}
  },
  {
   "cell_type": "code",
   "execution_count": 220,
   "source": [
    "num_games = training_df.shape[0]//num_loss"
   ],
   "outputs": [],
   "metadata": {}
  },
  {
   "cell_type": "code",
   "execution_count": 222,
   "source": [
    "[training_df.loc[game_idx*num_loss:(game_idx+1)*num_loss] for game_idx in range(num_games)]"
   ],
   "outputs": [],
   "metadata": {}
  },
  {
   "cell_type": "code",
   "execution_count": 203,
   "source": [
    "#True if lost game, False if won game\r\n",
    "training_df[\"loss_flag\"] = training_df[\"multiplier\"] < loss_level\r\n",
    "\r\n",
    "for num_loss in number_of_losses_in_a_row:\r\n",
    "    #find game sequences with the appropriate number of losses in a row\r\n",
    "    training_df[\"cumsum\"] = (~training_df[\"loss_flag\"]).cumsum()\r\n",
    "\r\n",
    "    #find where cumsum doesn't change for num_games lost in a row\r\n",
    "    cumsum_value_counts = training_df[\"cumsum\"].value_counts()\r\n",
    "    appropriate_cumsum = cumsum_value_counts[cumsum_value_counts >= num_loss]\r\n",
    "    game_sequences = training_df[training_df[\"cumsum\"].isin(appropriate_cumsum.index)].query(\"loss_flag == True\")\r\n",
    "\r\n",
    "\r\n",
    "    break"
   ],
   "outputs": [],
   "metadata": {}
  },
  {
   "cell_type": "code",
   "execution_count": null,
   "source": [],
   "outputs": [],
   "metadata": {}
  },
  {
   "cell_type": "code",
   "execution_count": 211,
   "source": [
    "appropriate_cumsum"
   ],
   "outputs": [
    {
     "output_type": "execute_result",
     "data": {
      "text/plain": [
       "516735    21\n",
       "455783    21\n",
       "719132    21\n",
       "579838    19\n",
       "394652    19\n",
       "          ..\n",
       "272412     2\n",
       "31347      2\n",
       "204139     2\n",
       "225544     2\n",
       "635726     2\n",
       "Name: cumsum, Length: 384309, dtype: int64"
      ]
     },
     "metadata": {},
     "execution_count": 211
    }
   ],
   "metadata": {}
  },
  {
   "cell_type": "code",
   "execution_count": 193,
   "source": [
    "#find game sequences with the appropriate number of losses in a row\r\n",
    "training_df[\"cumsum\"] = (~training_df[\"loss_flag\"]).cumsum()\r\n",
    "#find where cumsum doesn't change for num_games lost in a row\r\n",
    "cumsum_value_counts = training_df[\"cumsum\"].value_counts()\r\n",
    "appropriate_cumsum = cumsum_value_counts[cumsum_value_counts > number_of_losses_in_a_row]\r\n",
    "game_sequences = training_df[training_df[\"cumsum\"].isin(appropriate_cumsum.index)].query(\"loss_flag == True\")\r\n",
    "\r\n",
    "#extract game after loss sequence\r\n",
    "game_after_loss_sequence = game_sequences.groupby([\"cumsum\"])[\"game_no\"].max().reset_index()\r\n",
    "game_after_loss_sequence[\"sequential_game_no\"] = game_after_loss_sequence[\"game_no\"] + 1\r\n",
    "game_after_loss_sequence = training_df[training_df[\"game_no\"].isin(game_after_loss_sequence[\"sequential_game_no\"])]\r\n",
    "\r\n",
    "# #append loss sequences to game after loss sequence \r\n",
    "# #note games after loss sequence are games to bet on\r\n",
    "game_sequences = game_sequences.append(game_after_loss_sequence, ignore_index=True).sort_values(by=\"cumsum\")"
   ],
   "outputs": [],
   "metadata": {
    "collapsed": false,
    "pycharm": {
     "name": "#%%\n"
    }
   }
  },
  {
   "cell_type": "code",
   "execution_count": 195,
   "source": [
    "game_after_loss_sequence[\"loss_flag\"].unique()"
   ],
   "outputs": [
    {
     "output_type": "execute_result",
     "data": {
      "text/plain": [
       "array([False])"
      ]
     },
     "metadata": {},
     "execution_count": 195
    }
   ],
   "metadata": {}
  },
  {
   "cell_type": "code",
   "execution_count": 167,
   "source": [
    "#game played stats\r\n",
    "num_of_games_played = game_after_loss_sequence[\"game_no\"].nunique()\r\n",
    "num_of_games_won = game_after_loss_sequence[game_after_loss_sequence[\"multiplier\"] > multiplier_checkout_level][\"game_no\"].nunique()\r\n",
    "pct_games_won = num_of_games_won/num_of_games_played*100\r\n",
    "print(pct_games_won)\r\n"
   ],
   "outputs": [
    {
     "output_type": "stream",
     "name": "stdout",
     "text": [
      "99.51772535516155\n"
     ]
    }
   ],
   "metadata": {}
  },
  {
   "cell_type": "code",
   "execution_count": 168,
   "source": [
    "#play game after loss sequence\r\n",
    "#place a bet at the specific checkout level and bet amount\r\n",
    "def force_game_play(loss_flag, multiplier_checkout_level, bet_size):\r\n",
    "    if not(loss_flag):\r\n",
    "        #game is above 2\r\n",
    "        game_result = multiplier_checkout_level * bet_size\r\n",
    "    else:\r\n",
    "        #if game is a loss (below 2)\r\n",
    "        game_result = 0\r\n",
    "\r\n",
    "    return game_result"
   ],
   "outputs": [],
   "metadata": {}
  },
  {
   "cell_type": "code",
   "execution_count": 169,
   "source": [
    "#calculate game result\r\n",
    "game_after_loss_sequence[\"game_result\"] = game_after_loss_sequence.progress_apply(lambda x : force_game_play(x[\"loss_flag\"],multiplier_checkout_level, bet_size), axis=1)\r\n",
    "\r\n",
    "#P&L - positive is good, negative is bad\r\n",
    "capital_injected = game_after_loss_sequence[\"game_no\"].nunique() * bet_size\r\n",
    "games_result = game_after_loss_sequence[\"game_result\"].sum()\r\n",
    "loss_gain = games_result - capital_injected"
   ],
   "outputs": [
    {
     "output_type": "display_data",
     "data": {
      "application/vnd.jupyter.widget-view+json": {
       "version_major": 2,
       "version_minor": 0,
       "model_id": "932ffd90b7ab451cab08e2aaa301002d"
      },
      "text/plain": [
       "  0%|          | 0/198642 [00:00<?, ?it/s]"
      ]
     },
     "metadata": {}
    }
   ],
   "metadata": {}
  },
  {
   "cell_type": "code",
   "execution_count": 170,
   "source": [
    "loss_gain"
   ],
   "outputs": [
    {
     "output_type": "execute_result",
     "data": {
      "text/plain": [
       "993210"
      ]
     },
     "metadata": {},
     "execution_count": 170
    }
   ],
   "metadata": {}
  },
  {
   "cell_type": "code",
   "execution_count": null,
   "source": [],
   "outputs": [],
   "metadata": {}
  }
 ],
 "metadata": {
  "kernelspec": {
   "name": "python3",
   "display_name": "Python 3.9.7 64-bit ('roobet_env': venv)"
  },
  "language_info": {
   "codemirror_mode": {
    "name": "ipython",
    "version": 3
   },
   "file_extension": ".py",
   "mimetype": "text/x-python",
   "name": "python",
   "nbconvert_exporter": "python",
   "pygments_lexer": "ipython3",
   "version": "3.9.7"
  },
  "metadata": {
   "interpreter": {
    "hash": "239ab675de3f9bc7ff32c03a8d953065750b24e5e144d097652975c285fb2664"
   }
  },
  "interpreter": {
   "hash": "23573806e97cc1ae426e6785c20b4acea6c83a7e578a73f4a2120e569414aad6"
  }
 },
 "nbformat": 4,
 "nbformat_minor": 5
}