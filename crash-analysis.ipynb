{
 "cells": [
  {
   "cell_type": "code",
   "execution_count": 45,
   "id": "65f6c2ff-f962-457e-b4d4-587f9a59f510",
   "metadata": {
    "pycharm": {
     "name": "#%%\n"
    }
   },
   "outputs": [],
   "source": [
    "import numpy as np\n",
    "import hashlib\n",
    "import random\n",
    "import string\n",
    "import hmac\n",
    "import pandas as pd\n",
    "from tqdm.notebook import tqdm\n",
    "import os\n",
    "import re\n",
    "\n",
    "import warnings\n",
    "warnings.filterwarnings(\"ignore\")"
   ]
  },
  {
   "cell_type": "markdown",
   "source": [
    "### Hashing Parameters and Functions"
   ],
   "metadata": {
    "collapsed": false,
    "pycharm": {
     "name": "#%% md\n"
    }
   }
  },
  {
   "cell_type": "code",
   "execution_count": 2,
   "metadata": {},
   "outputs": [],
   "source": [
    "e = 2**52\n",
    "salt = \"0000000000000000000fa3b65e43e4240d71762a5bf397d5304b2596d116859c\"\n",
    "first_game = \"77b271fe12fca03c618f63dfb79d4105726ba9d4a25bb3f1964e435ccf9cb209\"\n",
    "current_game = \"948c8867a6582fdf55ef05b09030cb1afccf7d90f1d6844382577e2fc34e3419\""
   ]
  },
  {
   "cell_type": "code",
   "execution_count": 3,
   "id": "c86f1751-7e69-4dd7-8d16-beb33e0cabb3",
   "metadata": {},
   "outputs": [],
   "source": [
    "#functions to decode hash values to multiplier values\n",
    "def get_result(game_hash):\n",
    "    hm = hmac.new(str.encode(game_hash), b'', hashlib.sha256)\n",
    "    hm.update(salt.encode(\"utf-8\"))\n",
    "    h = hm.hexdigest()\n",
    "    if (int(h, 16) % 33 == 0):\n",
    "        return 1\n",
    "    h = int(h[:13], 16)\n",
    "    e = 2**52\n",
    "    return (((100 * e - h) / (e-h)) // 1) / 100.0\n",
    "\n",
    "def get_prev_game(hash_code):\n",
    "    m = hashlib.sha256()\n",
    "    m.update(hash_code.encode(\"utf-8\"))\n",
    "    return m.hexdigest()\n",
    "\n",
    "def get_all_multipliers(first_game,game_hash):\n",
    "\n",
    "    results = []\n",
    "    count = 0\n",
    "    while game_hash != first_game:\n",
    "        count += 1\n",
    "        results.append(get_result(game_hash))\n",
    "        game_hash = get_prev_game(game_hash)\n",
    "    \n",
    "    #append first game\n",
    "    results.append(get_result(first_game))\n",
    "    results = np.array(results)\n",
    "    \n",
    "    return results"
   ]
  },
  {
   "cell_type": "markdown",
   "id": "1c2d4b37-6b1b-4bd1-b2dc-4926a2d18c53",
   "metadata": {},
   "source": [
    "### Load data"
   ]
  },
  {
   "cell_type": "code",
   "execution_count": 4,
   "id": "9ca44d37-c096-46e2-ba36-ff34822557ac",
   "metadata": {},
   "outputs": [],
   "source": [
    "multipliers = get_all_multipliers(first_game,current_game)\n",
    "multipliers_chronological_order = multipliers[::-1]\n",
    "multiplier_df = pd.DataFrame({'game_no': range(1,len(multipliers_chronological_order)+1), 'multiplier': multipliers_chronological_order})"
   ]
  },
  {
   "cell_type": "markdown",
   "source": [
    "### Train Test Split\n"
   ],
   "metadata": {
    "collapsed": false,
    "pycharm": {
     "name": "#%% md\n"
    }
   }
  },
  {
   "cell_type": "code",
   "execution_count": 33,
   "id": "a85d8881-677b-4a30-ace7-b85143c15fa4",
   "metadata": {},
   "outputs": [],
   "source": [
    "#train test split\n",
    "train_pct = 0.8\n",
    "train_test_split_index = round(len(multiplier_df.index) * train_pct)\n",
    "\n",
    "testing_df = multiplier_df.loc[train_test_split_index:].copy()\n",
    "training_df = multiplier_df.loc[:train_test_split_index-1].copy()"
   ]
  },
  {
   "cell_type": "markdown",
   "source": [
    "### Brute-Force Method\n",
    "Adjust results directory per experiment run."
   ],
   "metadata": {
    "collapsed": false,
    "pycharm": {
     "name": "#%% md\n"
    }
   }
  },
  {
   "cell_type": "code",
   "execution_count": 56,
   "id": "c7cfe0d3-7a42-4eba-ade2-555024b9267b",
   "metadata": {},
   "outputs": [],
   "source": [
    "#experiment parameters\n",
    "multiplier_checkout_level = 20\n",
    "bet_size = 0.1 #USD\n",
    "batch_starting_capital = 50 #USD\n",
    "batch_size = 100\n",
    "\n",
    "#make directory to store results in\n",
    "experiment_results_directory = \"brute_force_v1\"\n",
    "results_path = os.path.join(\"data\",experiment_results_directory)\n",
    "os.mkdir(results_path)\n",
    "config_parameters = pd.Series({'multiplier_checkout_level':multiplier_checkout_level,\n",
    "                               'bet_size':bet_size,\n",
    "                               'batch_starting_capital':batch_starting_capital,\n",
    "                               'batch_size':batch_size})\n",
    "config_parameters.to_csv(os.path.join(results_path, \"config_parameters.csv\"))"
   ]
  },
  {
   "cell_type": "code",
   "execution_count": 57,
   "outputs": [],
   "source": [
    "#add columns\n",
    "training_df[\"bet_size\"] = np.NaN\n",
    "training_df[\"leftover_capital\"] = np.NaN\n",
    "training_df[\"winnings\"] = np.NaN\n",
    "\n",
    "#create batches\n",
    "training_batches = [training_df[i:i+batch_size] for i in range(0,training_df.shape[0],batch_size)]"
   ],
   "metadata": {
    "collapsed": false,
    "pycharm": {
     "name": "#%%\n"
    }
   }
  },
  {
   "cell_type": "code",
   "execution_count": null,
   "outputs": [
    {
     "data": {
      "text/plain": "  0%|          | 0/15382 [00:00<?, ?it/s]",
      "application/vnd.jupyter.widget-view+json": {
       "version_major": 2,
       "version_minor": 0,
       "model_id": "695cc80cbf554e8f8e6cce0e074aaecf"
      }
     },
     "metadata": {},
     "output_type": "display_data"
    }
   ],
   "source": [
    "for batch_idx in tqdm(range(len(training_batches))):\n",
    "    #extract batch\n",
    "    batch = training_batches[batch_idx]\n",
    "    #each batch run reset the starting capital\n",
    "    starting_capital = batch_starting_capital #USD\n",
    "    for index in batch.index:\n",
    "        #place bet\n",
    "        batch.loc[index,\"bet_size\"] = bet_size\n",
    "\n",
    "        #calculate winnings\n",
    "        if batch.loc[index, \"multiplier\"] < multiplier_checkout_level:\n",
    "            batch.loc[index, \"winnings\"] = 0\n",
    "        else:\n",
    "            batch.loc[index, \"winnings\"] = multiplier_checkout_level * bet_size\n",
    "\n",
    "        leftover_capital = starting_capital - bet_size + batch.loc[index, \"winnings\"]\n",
    "        batch.loc[index,\"leftover_capital\"] = leftover_capital\n",
    "        starting_capital = leftover_capital\n",
    "\n",
    "        if starting_capital == 0:\n",
    "            #end of experiment\n",
    "            break\n",
    "\n",
    "    #write out batch\n",
    "    batch.to_csv(os.path.join(results_path,\"batch_\" + str(batch_idx) + \".csv\"),index=False)"
   ],
   "metadata": {
    "collapsed": false,
    "pycharm": {
     "name": "#%%\n",
     "is_executing": true
    }
   }
  },
  {
   "cell_type": "markdown",
   "metadata": {
    "pycharm": {
     "name": "#%% md\n"
    }
   },
   "source": [
    "#### Analyse Brute-Force method"
   ]
  },
  {
   "cell_type": "code",
   "execution_count": 50,
   "outputs": [
    {
     "data": {
      "text/plain": "  0%|          | 0/15382 [00:00<?, ?it/s]",
      "application/vnd.jupyter.widget-view+json": {
       "version_major": 2,
       "version_minor": 0,
       "model_id": "0f0a1d5e572146e59e310d3da5abd319"
      }
     },
     "metadata": {},
     "output_type": "display_data"
    }
   ],
   "source": [
    "results_files = [file for file in os.listdir(results_path) if \"csv\" in file]\n",
    "full_results = pd.DataFrame([])\n",
    "for result in tqdm(results_files):\n",
    "    batch_result = pd.read_csv(os.path.join(results_path, result))\n",
    "    batch_num = re.sub(r'[^\\d]+', '', result)\n",
    "    #batch profit loss\n",
    "    batch_capital_end = batch_result.iloc[-1][\"leftover_capital\"]\n",
    "    if pd.isna(batch_capital_end):\n",
    "        batch_profit_loss = 0\n",
    "        perct_profit_loss = -1\n",
    "    else:\n",
    "        batch_profit_loss = batch_capital_end - batch_starting_capital\n",
    "        perct_profit_loss = (batch_capital_end-batch_starting_capital)/batch_starting_capital\n",
    "\n",
    "    #batch success\n",
    "    if batch_profit_loss > 0:\n",
    "        batch_success = True\n",
    "    else:\n",
    "        batch_success = False\n",
    "\n",
    "    #batch number of wins\n",
    "    number_of_wins = sum(batch_result[\"winnings\"] > 0)\n",
    "    #batch win %\n",
    "    perct_win = number_of_wins/batch_size\n",
    "\n",
    "    batch_info = pd.Series({'batch_num':batch_num,\n",
    "               'starting_capital':batch_starting_capital,\n",
    "               'ending_capital':batch_capital_end,\n",
    "               'profit_loss':batch_profit_loss,\n",
    "               'profit_loss_percentage':perct_profit_loss,\n",
    "               'batch_success':batch_success,\n",
    "               'num_of_batch_wins':number_of_wins,\n",
    "               'batch_win_percentage':perct_win\n",
    "               })\n",
    "    full_results = full_results.append(batch_info, ignore_index=True)\n",
    "\n",
    "full_results.to_csv(os.path.join(results_path,\"brute_force_experiment_analysis_v1.csv\"),index=False)"
   ],
   "metadata": {
    "collapsed": false,
    "pycharm": {
     "name": "#%%\n"
    }
   }
  },
  {
   "cell_type": "code",
   "execution_count": null,
   "outputs": [],
   "source": [],
   "metadata": {
    "collapsed": false,
    "pycharm": {
     "name": "#%%\n"
    }
   }
  }
 ],
 "metadata": {
  "kernelspec": {
   "name": "python3",
   "language": "python",
   "display_name": "Python 3"
  },
  "language_info": {
   "codemirror_mode": {
    "name": "ipython",
    "version": 3
   },
   "file_extension": ".py",
   "mimetype": "text/x-python",
   "name": "python",
   "nbconvert_exporter": "python",
   "pygments_lexer": "ipython3",
   "version": "3.8.6"
  },
  "metadata": {
   "interpreter": {
    "hash": "239ab675de3f9bc7ff32c03a8d953065750b24e5e144d097652975c285fb2664"
   }
  }
 },
 "nbformat": 4,
 "nbformat_minor": 5
}