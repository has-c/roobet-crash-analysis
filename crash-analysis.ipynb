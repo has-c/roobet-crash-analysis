{
 "cells": [
  {
   "cell_type": "code",
   "execution_count": 10,
   "id": "65f6c2ff-f962-457e-b4d4-587f9a59f510",
   "metadata": {},
   "outputs": [],
   "source": [
    "import numpy as np\n",
    "import hashlib\n",
    "import random\n",
    "import string\n",
    "import hmac\n",
    "import pandas as pd\n",
    "from statsmodels.tsa.ar_model import AutoReg, ar_select_order\n",
    "import statsmodels.api as sm\n",
    "from statsmodels.tsa.api import ExponentialSmoothing, SimpleExpSmoothing, Holt\n",
    "import plotly.graph_objects as go\n",
    "import plotly.express as px\n",
    "\n",
    "e = 2**52\n",
    "salt = \"0000000000000000000fa3b65e43e4240d71762a5bf397d5304b2596d116859c\""
   ]
  },
  {
   "cell_type": "code",
   "execution_count": 2,
   "id": "c86f1751-7e69-4dd7-8d16-beb33e0cabb3",
   "metadata": {},
   "outputs": [],
   "source": [
    "def get_result(game_hash):\n",
    "    hm = hmac.new(str.encode(game_hash), b'', hashlib.sha256)\n",
    "    hm.update(salt.encode(\"utf-8\"))\n",
    "    h = hm.hexdigest()\n",
    "    if (int(h, 16) % 33 == 0):\n",
    "        return 1\n",
    "    h = int(h[:13], 16)\n",
    "    e = 2**52\n",
    "    return (((100 * e - h) / (e-h)) // 1) / 100.0\n",
    "\n",
    "def get_prev_game(hash_code):\n",
    "    m = hashlib.sha256()\n",
    "    m.update(hash_code.encode(\"utf-8\"))\n",
    "    return m.hexdigest()\n",
    "\n",
    "def get_all_multipliers():\n",
    "    game_hash = '312608041e7dc36c53f993f49b5b2dc42d7dd348a4f5af3581b84147cb998bbd' # Update to latest game's hash for more results\n",
    "    first_game = \"77b271fe12fca03c618f63dfb79d4105726ba9d4a25bb3f1964e435ccf9cb209\"\n",
    "\n",
    "    results = []\n",
    "    count = 0\n",
    "    while game_hash != first_game:\n",
    "        count += 1\n",
    "        results.append(get_result(game_hash))\n",
    "        game_hash = get_prev_game(game_hash)\n",
    "    \n",
    "    #append first game\n",
    "    results.append(get_result(first_game))\n",
    "    results = np.array(results)\n",
    "    \n",
    "    return results"
   ]
  },
  {
   "cell_type": "markdown",
   "id": "1c2d4b37-6b1b-4bd1-b2dc-4926a2d18c53",
   "metadata": {},
   "source": [
    "#### Load data"
   ]
  },
  {
   "cell_type": "code",
   "execution_count": 3,
   "id": "9ca44d37-c096-46e2-ba36-ff34822557ac",
   "metadata": {},
   "outputs": [],
   "source": [
    "multipliers = get_all_multipliers()\n",
    "multipliers_chronological_order = multipliers[::-1]\n",
    "multiplier_df = pd.DataFrame({'game_no': range(1,len(multipliers_chronological_order)+1), 'multiplier': multipliers_chronological_order})"
   ]
  },
  {
   "cell_type": "code",
   "execution_count": 15,
   "id": "ba9efe42-064d-4059-9afd-c0ebb49f7cc3",
   "metadata": {},
   "outputs": [
    {
     "data": {
      "text/html": [
       "<div>\n",
       "<style scoped>\n",
       "    .dataframe tbody tr th:only-of-type {\n",
       "        vertical-align: middle;\n",
       "    }\n",
       "\n",
       "    .dataframe tbody tr th {\n",
       "        vertical-align: top;\n",
       "    }\n",
       "\n",
       "    .dataframe thead th {\n",
       "        text-align: right;\n",
       "    }\n",
       "</style>\n",
       "<table border=\"1\" class=\"dataframe\">\n",
       "  <thead>\n",
       "    <tr style=\"text-align: right;\">\n",
       "      <th></th>\n",
       "      <th>game_no</th>\n",
       "      <th>multiplier</th>\n",
       "    </tr>\n",
       "  </thead>\n",
       "  <tbody>\n",
       "    <tr>\n",
       "      <th>0</th>\n",
       "      <td>1</td>\n",
       "      <td>2.19</td>\n",
       "    </tr>\n",
       "    <tr>\n",
       "      <th>1</th>\n",
       "      <td>2</td>\n",
       "      <td>2.80</td>\n",
       "    </tr>\n",
       "    <tr>\n",
       "      <th>2</th>\n",
       "      <td>3</td>\n",
       "      <td>6.55</td>\n",
       "    </tr>\n",
       "    <tr>\n",
       "      <th>3</th>\n",
       "      <td>4</td>\n",
       "      <td>1.10</td>\n",
       "    </tr>\n",
       "    <tr>\n",
       "      <th>4</th>\n",
       "      <td>5</td>\n",
       "      <td>1.06</td>\n",
       "    </tr>\n",
       "    <tr>\n",
       "      <th>...</th>\n",
       "      <td>...</td>\n",
       "      <td>...</td>\n",
       "    </tr>\n",
       "    <tr>\n",
       "      <th>1734651</th>\n",
       "      <td>1734652</td>\n",
       "      <td>1.35</td>\n",
       "    </tr>\n",
       "    <tr>\n",
       "      <th>1734652</th>\n",
       "      <td>1734653</td>\n",
       "      <td>7.43</td>\n",
       "    </tr>\n",
       "    <tr>\n",
       "      <th>1734653</th>\n",
       "      <td>1734654</td>\n",
       "      <td>4.69</td>\n",
       "    </tr>\n",
       "    <tr>\n",
       "      <th>1734654</th>\n",
       "      <td>1734655</td>\n",
       "      <td>5.48</td>\n",
       "    </tr>\n",
       "    <tr>\n",
       "      <th>1734655</th>\n",
       "      <td>1734656</td>\n",
       "      <td>1.75</td>\n",
       "    </tr>\n",
       "  </tbody>\n",
       "</table>\n",
       "<p>1734656 rows × 2 columns</p>\n",
       "</div>"
      ],
      "text/plain": [
       "         game_no  multiplier\n",
       "0              1        2.19\n",
       "1              2        2.80\n",
       "2              3        6.55\n",
       "3              4        1.10\n",
       "4              5        1.06\n",
       "...          ...         ...\n",
       "1734651  1734652        1.35\n",
       "1734652  1734653        7.43\n",
       "1734653  1734654        4.69\n",
       "1734654  1734655        5.48\n",
       "1734655  1734656        1.75\n",
       "\n",
       "[1734656 rows x 2 columns]"
      ]
     },
     "execution_count": 15,
     "metadata": {},
     "output_type": "execute_result"
    }
   ],
   "source": [
    "#create lagged df \n",
    "multiplier_df"
   ]
  },
  {
   "cell_type": "code",
   "execution_count": null,
   "id": "74c711bf-8105-4fad-8818-457cace1482d",
   "metadata": {},
   "outputs": [],
   "source": []
  },
  {
   "cell_type": "code",
   "execution_count": null,
   "id": "f6e87585-db3c-494a-a11f-62bf556f911f",
   "metadata": {},
   "outputs": [],
   "source": []
  },
  {
   "cell_type": "code",
   "execution_count": 4,
   "id": "a85d8881-677b-4a30-ace7-b85143c15fa4",
   "metadata": {},
   "outputs": [],
   "source": [
    "#train test split\n",
    "train_pct = 0.8\n",
    "train_df = multiplier_df.loc[:round(len(multiplier_df.index) * train_pct)]\n",
    "test_df = multiplier_df.loc[round(len(multiplier_df.index) * train_pct)+1:]"
   ]
  },
  {
   "cell_type": "code",
   "execution_count": null,
   "id": "27b79f9b-012a-483c-ab77-a068f9627f4b",
   "metadata": {},
   "outputs": [],
   "source": []
  },
  {
   "cell_type": "code",
   "execution_count": null,
   "id": "c7cfe0d3-7a42-4eba-ade2-555024b9267b",
   "metadata": {},
   "outputs": [],
   "source": []
  }
 ],
 "metadata": {
  "kernelspec": {
   "display_name": "Python 3",
   "language": "python",
   "name": "python3"
  },
  "language_info": {
   "codemirror_mode": {
    "name": "ipython",
    "version": 3
   },
   "file_extension": ".py",
   "mimetype": "text/x-python",
   "name": "python",
   "nbconvert_exporter": "python",
   "pygments_lexer": "ipython3",
   "version": "3.8.6"
  }
 },
 "nbformat": 4,
 "nbformat_minor": 5
}
